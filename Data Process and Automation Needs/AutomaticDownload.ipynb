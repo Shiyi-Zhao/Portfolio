{
 "cells": [
  {
   "cell_type": "markdown",
   "id": "ecda006b",
   "metadata": {},
   "source": [
    "Note:   \n",
    "1.This code is originally writen to automatically download valuation sheets of multiple funds in time series from email attachments.  \n",
    "2.Sensitive information has been obfuscated."
   ]
  },
  {
   "cell_type": "markdown",
   "id": "d86dabb8",
   "metadata": {},
   "source": [
    "1.Import package"
   ]
  },
  {
   "cell_type": "code",
   "execution_count": 1,
   "id": "c52a818c",
   "metadata": {
    "scrolled": true
   },
   "outputs": [],
   "source": [
    "import time, sys, smtplib, pyperclip\n",
    "import pandas as pd\n",
    "import pyautogui as pg\n",
    "import os\n",
    "import shutil"
   ]
  },
  {
   "cell_type": "code",
   "execution_count": 2,
   "id": "024ebc02",
   "metadata": {
    "scrolled": true
   },
   "outputs": [
    {
     "name": "stdout",
     "output_type": "stream",
     "text": [
      "Welcome to use Wind Quant API for Python (WindPy)!\n",
      "\n",
      "COPYRIGHT (C) 2020 WIND INFORMATION CO., LTD. ALL RIGHTS RESERVED.\n",
      "IN NO CIRCUMSTANCE SHALL WIND BE RESPONSIBLE FOR ANY DAMAGES OR LOSSES CAUSED BY USING WIND QUANT API FOR Python.\n"
     ]
    },
    {
     "data": {
      "text/plain": [
       ".ErrorCode=0\n",
       ".Data=[OK!]"
      ]
     },
     "execution_count": 2,
     "metadata": {},
     "output_type": "execute_result"
    }
   ],
   "source": [
    "from WindPy import w\n",
    "w.start()"
   ]
  },
  {
   "cell_type": "markdown",
   "id": "9eec6eba",
   "metadata": {},
   "source": [
    "2.Set Click points"
   ]
  },
  {
   "cell_type": "code",
   "execution_count": 3,
   "id": "2cb12665",
   "metadata": {},
   "outputs": [
    {
     "name": "stdout",
     "output_type": "stream",
     "text": [
      "Point(x=1734, y=166)\n"
     ]
    }
   ],
   "source": [
    "#Mouse(InputBox)\n",
    "ps1 = pg.position(x=1734, y=166)\n",
    "print(ps1)"
   ]
  },
  {
   "cell_type": "code",
   "execution_count": 4,
   "id": "722cec49",
   "metadata": {},
   "outputs": [
    {
     "name": "stdout",
     "output_type": "stream",
     "text": [
      "Point(x=1868, y=166)\n"
     ]
    }
   ],
   "source": [
    "#Mouse(Search Button)\n",
    "ps2 = pg.position(x=1868, y=166)\n",
    "print(ps2)"
   ]
  },
  {
   "cell_type": "code",
   "execution_count": 5,
   "id": "37b7bd1e",
   "metadata": {},
   "outputs": [
    {
     "name": "stdout",
     "output_type": "stream",
     "text": [
      "Point(x=1397, y=416)\n"
     ]
    }
   ],
   "source": [
    "#Mouse(Certain Mail)\n",
    "ps3 = pg.position(x=1397, y=416)\n",
    "print(ps3)"
   ]
  },
  {
   "cell_type": "code",
   "execution_count": 6,
   "id": "30413170",
   "metadata": {},
   "outputs": [
    {
     "name": "stdout",
     "output_type": "stream",
     "text": [
      "Point(x=816, y=504)\n"
     ]
    }
   ],
   "source": [
    "#Mouse(Look Attachments)\n",
    "ps4 = pg.position(x=816, y=504)\n",
    "print(ps4)"
   ]
  },
  {
   "cell_type": "code",
   "execution_count": 23,
   "id": "80682ff9",
   "metadata": {},
   "outputs": [
    {
     "name": "stdout",
     "output_type": "stream",
     "text": [
      "Point(x=384, y=652)\n"
     ]
    }
   ],
   "source": [
    "#Mouse(Attachments)\n",
    "ps5 = pg.position(x=384, y=652)\n",
    "print(ps5)"
   ]
  },
  {
   "cell_type": "code",
   "execution_count": 25,
   "id": "56839b22",
   "metadata": {},
   "outputs": [
    {
     "name": "stdout",
     "output_type": "stream",
     "text": [
      "Point(x=335, y=574)\n"
     ]
    }
   ],
   "source": [
    "#Mouse(Download)\n",
    "ps6 = pg.position(x=335, y=574)\n",
    "print(ps6)"
   ]
  },
  {
   "cell_type": "code",
   "execution_count": 9,
   "id": "247078af",
   "metadata": {},
   "outputs": [
    {
     "name": "stdout",
     "output_type": "stream",
     "text": [
      "Point(x=1506, y=226)\n"
     ]
    }
   ],
   "source": [
    "#Mouse(Close)\n",
    "ps7 = pg.position(x=1506, y=226)\n",
    "print(ps7)"
   ]
  },
  {
   "cell_type": "markdown",
   "id": "79cbba9b",
   "metadata": {},
   "source": [
    "3.Get Dates"
   ]
  },
  {
   "cell_type": "code",
   "execution_count": 10,
   "id": "77eb5e39",
   "metadata": {
    "scrolled": true
   },
   "outputs": [],
   "source": [
    "#Get Dates\n",
    "tdays = pd.DataFrame(w.tdays(\"2022-10-01\", \"2022-10-31\", \"\").Data).T\n",
    "tdays.columns = ['days']\n",
    "tdays['days']=tdays.days.apply(lambda x: x.strftime('%Y%m%d')).astype(str)"
   ]
  },
  {
   "cell_type": "code",
   "execution_count": 11,
   "id": "ff0aa0d7",
   "metadata": {},
   "outputs": [
    {
     "data": {
      "text/plain": [
       "16"
      ]
     },
     "execution_count": 11,
     "metadata": {},
     "output_type": "execute_result"
    }
   ],
   "source": [
    "len(tdays)"
   ]
  },
  {
   "cell_type": "markdown",
   "id": "5b575f3b",
   "metadata": {},
   "source": [
    "4.Set Names"
   ]
  },
  {
   "cell_type": "code",
   "execution_count": 13,
   "id": "852a0e54",
   "metadata": {},
   "outputs": [],
   "source": [
    "nameall = ['FundCode_FundNameA',\\\n",
    "'FundCode_FundNameB',\\\n",
    "'FundCode_FundNameC',\\\n",
    "'FundCode_FundNameX',\\\n",
    "'FundCode_FundNameY',\\\n",
    "'FundCode_FundNameZ']"
   ]
  },
  {
   "cell_type": "markdown",
   "id": "528ba1a6",
   "metadata": {},
   "source": [
    "5.Single Fund Download"
   ]
  },
  {
   "cell_type": "code",
   "execution_count": 30,
   "id": "d59bfd69",
   "metadata": {},
   "outputs": [],
   "source": [
    "name = 'FundCode_FundNameA'\n",
    "\n",
    "for i in range(len(tdays)):\n",
    "    inp = \"【\" + tdays.iloc[i,0] + \"】\" + name\n",
    "    time.sleep(0.1)\n",
    "    pg.click(ps1)#Input box\n",
    "    pg.click(ps1)#Input box\n",
    "    time.sleep(0.1)\n",
    "    pg.hotkey(\"ctrl\" ,\"a\")\n",
    "    pg.hotkey(\"ctrl\" ,\"a\")\n",
    "    time.sleep(0.01)\n",
    "    pg.press(\"backspace\")\n",
    "    time.sleep(0.01)\n",
    "    pg.click(ps1)#Input box\n",
    "    time.sleep(0.01)\n",
    "    pyperclip.copy(inp)\n",
    "    pg.hotkey(\"ctrl\",\"v\")\n",
    "    time.sleep(0.01)\n",
    "    pg.click(ps2)#Search button\n",
    "    pg.click(ps2)\n",
    "    time.sleep(2)\n",
    "    pg.click(ps3)#Click mail\n",
    "    pg.click(ps3)\n",
    "    time.sleep(2)\n",
    "    pg.scroll(-100000000)#Scroll to the end\n",
    "    pg.click(ps5)#Click file\n",
    "    time.sleep(0.01)\n",
    "    pg.click(ps6)#Click download\n",
    "    time.sleep(0.01)"
   ]
  },
  {
   "cell_type": "markdown",
   "id": "568e1a14",
   "metadata": {},
   "source": [
    "6.Multiple Fund Download"
   ]
  },
  {
   "cell_type": "code",
   "execution_count": 3,
   "id": "d6601c8b",
   "metadata": {},
   "outputs": [],
   "source": [
    "copypath = \"xxx\"\n",
    "pastepath = path + \"/xxx\""
   ]
  },
  {
   "cell_type": "code",
   "execution_count": null,
   "id": "27f4cf99",
   "metadata": {},
   "outputs": [],
   "source": [
    "#nameall\n",
    "for j in range(len(nameall)):\n",
    "    name = nameall[j]\n",
    "    if os.path.exists(pastepath+name):\n",
    "        print(name+\" already existed!\")\n",
    "    else:\n",
    "        os.mkdir(path+name)\n",
    "        for i in range(len(tdays)):\n",
    "            inp = name + tdays.iloc[i,0]\n",
    "            time.sleep(0.1)\n",
    "            pg.click(ps1)#Input box\n",
    "            pg.click(ps1)#Input box\n",
    "            time.sleep(0.1)\n",
    "            pg.hotkey(\"ctrl\" ,\"a\")\n",
    "            pg.hotkey(\"ctrl\" ,\"a\")\n",
    "            time.sleep(0.01)\n",
    "            pg.press(\"backspace\")\n",
    "            time.sleep(0.01)\n",
    "            pg.click(ps1)#Input box\n",
    "            time.sleep(0.01)\n",
    "            pyperclip.copy(inp)\n",
    "            pg.hotkey(\"ctrl\",\"v\")\n",
    "            time.sleep(0.01)\n",
    "            pg.click(ps2)#Search button\n",
    "            pg.click(ps2)\n",
    "            time.sleep(2)\n",
    "            pg.click(ps3)#Click mail\n",
    "            pg.click(ps3)\n",
    "            time.sleep(2)\n",
    "            pg.scroll(-100000000)#Scroll to the end\n",
    "            pg.click(ps5)#Click file\n",
    "            time.sleep(0.05)\n",
    "            pg.click(ps6)#Click download\n",
    "            time.sleep(0.01)\n",
    "        \n",
    "        pg.click(ps7)#Close\n",
    "        time.sleep(5)\n",
    "        files = [file for file in os.listdir(copypath) if \"2022\" in file]\n",
    "        for file in files:\n",
    "            shutil.move(copypath+file, pastepath+name+\"/\"+file)"
   ]
  }
 ],
 "metadata": {
  "kernelspec": {
   "display_name": "Python 3",
   "language": "python",
   "name": "python3"
  },
  "language_info": {
   "codemirror_mode": {
    "name": "ipython",
    "version": 3
   },
   "file_extension": ".py",
   "mimetype": "text/x-python",
   "name": "python",
   "nbconvert_exporter": "python",
   "pygments_lexer": "ipython3",
   "version": "3.8.8"
  },
  "toc": {
   "base_numbering": 1,
   "nav_menu": {},
   "number_sections": true,
   "sideBar": true,
   "skip_h1_title": false,
   "title_cell": "Table of Contents",
   "title_sidebar": "Contents",
   "toc_cell": false,
   "toc_position": {},
   "toc_section_display": true,
   "toc_window_display": false
  }
 },
 "nbformat": 4,
 "nbformat_minor": 5
}
